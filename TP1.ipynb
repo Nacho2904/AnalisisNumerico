{
  "cells": [
    {
      "cell_type": "markdown",
      "metadata": {
        "id": "view-in-github",
        "colab_type": "text"
      },
      "source": [
        "<a href=\"https://colab.research.google.com/github/Nacho2904/AnalisisNumerico/blob/main/TP1.ipynb\" target=\"_parent\"><img src=\"https://colab.research.google.com/assets/colab-badge.svg\" alt=\"Open In Colab\"/></a>"
      ]
    },
    {
      "cell_type": "markdown",
      "metadata": {
        "id": "cFHrLdgQTlzg"
      },
      "source": [
        "![Curso Schwarz-Sosa-Suriano](https://confedi.org.ar/wp-content/uploads/2020/09/fiuba_logo-400x115.jpg)\n",
        "# Curso Schwarz - Sosa - Castaño\n",
        "- Métodos Numéricos. *Curso 2*\n",
        "- Análisis Numérico I. *Curso 4*\n",
        "- Métodos Matemáticos y Numéricos. *Curso 6*\n",
        "\n",
        "# **Trabajo Práctico**\n"
      ]
    },
    {
      "cell_type": "markdown",
      "metadata": {
        "id": "xB_yWlLIs78g"
      },
      "source": [
        "##**Ecuaciones no lineales**"
      ]
    },
    {
      "cell_type": "markdown",
      "metadata": {
        "id": "gX9SldYe798b"
      },
      "source": [
        "Se requiere conocer la temperatura de una corriente de aceite que proviene de un intercambiador de calor. La corriente ingresa al equipo a 120ºC y es enfriada en el mismo con un servicio de agua fría.<br> \n",
        "A partir de los balances de calor del sistema se obtiene una ecuación en función de la temperatura de salida del aceite ($T_a^s$)\n",
        "\n"
      ]
    },
    {
      "cell_type": "markdown",
      "metadata": {
        "id": "k2u-hDLD5YGk"
      },
      "source": [
        " $f(T_a^s) = \\frac{\\frac{UA(T_a^e-\\frac{m_aCp_a}{m_wCp_w}(T_a^e-T_a^s)-T_w^e)-(T_a^s - T_w^e)}{ln(\\frac{(T_a^e-\\frac{m_aCp_a}{m_wCp_w}(T_a^e-T_a^s)-T_w^e)}{(T_a^s - T_w^e)})}}{m_aCp_a(T_a^e-T_a^s)} - 1 = 0$"
      ]
    },
    {
      "cell_type": "markdown",
      "metadata": {
        "id": "CCUA0Mpy79Mh"
      },
      "source": [
        "1) Hallar la temperatura de salida del aceite ($T_a^s$) utilizando los siguientes métodos: \n",
        "- Bisección\n",
        "- Punto fijo, obteniendo al menos una función que converja, y dejando constancia de al menos 6 iteraciones de una que no converja.\n",
        "- Newton Raphson\n",
        "- Steffensen (para las dos funciones de punto fijo obtenidas)\n",
        "\n",
        "<br>Justificar los intervalos o valores semilla utilizados.<br> \n",
        "\n",
        "2) Presentar para cada resultado y cada método, un dataframe con todas las aproximaciones obtenidas, indicando en cada fila el resultado del término que se comparó con la tolerancia en cada paso. Además, en base a lo visto en clase práctica, estimar el valor de $\\lambda$ considerando como dato el orden de convergencia $\\alpha$ de cada método y como raíz teórica la aproximación obtenida.<br>\n",
        "3) Graficar para cada método el valor de las aproximaciones obtenidas en función del número de iteraciones.<br>\n",
        "4) Desarrollar conclusiones a partir de los resultados obtenidos.  "
      ]
    },
    {
      "cell_type": "markdown",
      "source": [
        "### Imports, plots de la función"
      ],
      "metadata": {
        "id": "j6QL2EfGSmPf"
      }
    },
    {
      "cell_type": "code",
      "source": [
        "import sympy as sp\n",
        "import numpy as np\n",
        "import matplotlib.pyplot as plt\n",
        "import pandas as pd"
      ],
      "metadata": {
        "id": "88mwX_GM5otr"
      },
      "execution_count": 135,
      "outputs": []
    },
    {
      "cell_type": "code",
      "execution_count": 12,
      "metadata": {
        "id": "xBJXgan98bwJ"
      },
      "outputs": [],
      "source": [
        "#Datos del problema \n",
        "U = 585.84 #kcal/(h m^2 °C) Coeficiente gobal de transferencia de calor\n",
        "A = 81.66 #m^2 Area total de transferencia de calor\n",
        "\n",
        "#Datos del agua\n",
        "mw = 21000 #kg/h caudal másico de agua\n",
        "Cpw = 1 #kcal/(h°C)  Calor específico del agua\n",
        "Tw_e = 20 #°C Temperatura de entrada del agua\n",
        "Tw_s = 26  #°C Temperatura de salida del agua\n",
        "\n",
        "#Datos del aceite\n",
        "ma = 33070 #kg/h caudal másico de aceite\n",
        "Cpa = 0.5 #kcal/(h°C) Calor específico del aceite\n",
        "Ta_e = 120 #°C Temperatura de entrada del aceite\n",
        "datos = [U,A,mw,Cpw,Tw_e,Tw_s,ma,Cpa,Ta_e]"
      ]
    },
    {
      "cell_type": "code",
      "source": [
        "U_sim, A_sim, mw_sim, Cpw_sim, Tw_e_sim, Tw_s_sim, ma_sim, Cpa_sim, Ta_e_sim = sp.symbols(\"U,A,m_w,Cp_w,T_w^e,T_w^s,m_a,Cp_a,T_a^e\")\n",
        "Ta_s_sim = sp.symbols(\"T_a^s\")\n",
        "f = ((U_sim*A_sim)*(Ta_e_sim - ((ma_sim* Cpa_sim)/(mw_sim*Cpw_sim))*(Ta_e_sim - Ta_s_sim) - Tw_e_sim) - (Ta_s_sim - Tw_e_sim))/ \\\n",
        "    (sp.log((Ta_e_sim - ((ma_sim* Cpa_sim)/(mw_sim*Cpw_sim))*(Ta_e_sim - Ta_s_sim) - Tw_s_sim)/(Ta_s_sim - Tw_s_sim)))/ \\\n",
        "    (ma_sim*Cpa_sim*(Ta_e_sim - Ta_s_sim)) - 1\n",
        "\n",
        "f"
      ],
      "metadata": {
        "colab": {
          "base_uri": "https://localhost:8080/",
          "height": 95
        },
        "id": "s4g9PibM52Gi",
        "outputId": "a68f2e44-bcce-4583-941a-261519a30a9e"
      },
      "execution_count": 11,
      "outputs": [
        {
          "output_type": "execute_result",
          "data": {
            "text/plain": [
              "-1 + (A*U*(-Cp_a*m_a*(T_a^e - T_a^s)/(Cp_w*m_w) + T_a^e - T_w^e) - T_a^s + T_w^e)/(Cp_a*m_a*(T_a^e - T_a^s)*log((-Cp_a*m_a*(T_a^e - T_a^s)/(Cp_w*m_w) + T_a^e - T_w^s)/(T_a^s - T_w^s)))"
            ],
            "text/latex": "$\\displaystyle -1 + \\frac{A U \\left(- \\frac{Cp_{a} m_{a} \\left(T^{e}_{a} - T^{s}_{a}\\right)}{Cp_{w} m_{w}} + T^{e}_{a} - T^{e}_{w}\\right) - T^{s}_{a} + T^{e}_{w}}{Cp_{a} m_{a} \\left(T^{e}_{a} - T^{s}_{a}\\right) \\log{\\left(\\frac{- \\frac{Cp_{a} m_{a} \\left(T^{e}_{a} - T^{s}_{a}\\right)}{Cp_{w} m_{w}} + T^{e}_{a} - T^{s}_{w}}{T^{s}_{a} - T^{s}_{w}} \\right)}}$"
          },
          "metadata": {},
          "execution_count": 11
        }
      ]
    },
    {
      "cell_type": "code",
      "source": [
        "f_eval = sp.lambdify([U_sim, A_sim, mw_sim, Cpw_sim, Tw_e_sim, Tw_s_sim, ma_sim, Cpa_sim, Ta_e_sim, Ta_s_sim], f)\n",
        "f_eval_ta_s = lambda Ta_s: f_eval(U,A,mw,Cpw,Tw_e,Tw_s,ma,Cpa,Ta_e,Ta_s)"
      ],
      "metadata": {
        "id": "rvCP04bo-dJi"
      },
      "execution_count": 13,
      "outputs": []
    },
    {
      "cell_type": "code",
      "source": [
        "x_axis = np.arange(30, 40, 0.01)\n",
        "y_axis = [f_eval_ta_s(x) for x in x_axis]\n",
        "plt.plot(x_axis, y_axis)\n",
        "plt.title(\"Gráfico de la función en (30,40)\")\n",
        "plt.xlabel(\"Valores de la temperatura\")\n",
        "plt.ylabel(\"Valores de f\")\n",
        "plt.xlim(30,40);"
      ],
      "metadata": {
        "colab": {
          "base_uri": "https://localhost:8080/",
          "height": 295
        },
        "id": "lZMhHgO5_dBj",
        "outputId": "7d141430-1e54-4145-9a8f-a77295e8bb87"
      },
      "execution_count": 192,
      "outputs": [
        {
          "output_type": "display_data",
          "data": {
            "text/plain": [
              "<Figure size 432x288 with 1 Axes>"
            ],
            "image/png": "[encoded data removed]"
          },
          "metadata": {
            "needs_background": "light"
          }
        }
      ]
    },
    {
      "cell_type": "markdown",
      "source": [
        "Como observamos en el gráfico de la función, vemos que alcanza una raíz $p$ aproximadamente en el intervalo $(30, 40)$. Utilizaremos este invervalo para para los métodos correspondientes."
      ],
      "metadata": {
        "id": "Hlct_aCQA0z-"
      }
    },
    {
      "cell_type": "markdown",
      "source": [
        "### Método de la bisección"
      ],
      "metadata": {
        "id": "YgDSQy_ySdKS"
      }
    },
    {
      "cell_type": "markdown",
      "source": [
        "#### Código del método"
      ],
      "metadata": {
        "id": "I1xZfzauS1uW"
      }
    },
    {
      "cell_type": "code",
      "source": [
        "def bisect(f, a: float, b: float, tol: float, max_iteraciones:int = 100):\n",
        "  resultados = pd.DataFrame(columns = [\"Aproximación\", \"Error relativo\"])\n",
        "  a = np.float32(a)\n",
        "  b = np.float32(b)\n",
        "  aproximacion = (b+a)/2\n",
        "  while np.absolute((b - a) / b) > tol and len(resultados) < max_iteraciones:    \n",
        "    aproximacion = (b+a)/2\n",
        "    if f(aproximacion) * f(a) < 0:\n",
        "      b = aproximacion\n",
        "    else:\n",
        "      a = aproximacion\n",
        "    resultados.loc[len(resultados.index)] = [aproximacion, np.absolute(((b-a)/b))] \n",
        "\n",
        "  aprox_lambda = lambda indice: abs((resultados[\"Aproximación\"].iloc[-1] - resultados[\"Aproximación\"].iloc[indice]))/ \\\n",
        "  abs((resultados[\"Aproximación\"].iloc[-1] - resultados[\"Aproximación\"].iloc[indice-1]))\n",
        "\n",
        "  resultados[\"Lambda\"] = [0] + [aprox_lambda(indice) for indice in resultados.index[1:]]\n",
        "  \n",
        "  return aproximacion, resultados"
      ],
      "metadata": {
        "id": "2iNgCKtNBnpt"
      },
      "execution_count": 209,
      "outputs": []
    },
    {
      "cell_type": "markdown",
      "source": [
        "#### Aplicación en el problema presentado y análisis de los resultados"
      ],
      "metadata": {
        "id": "Bm5B_Qu2S41W"
      }
    },
    {
      "cell_type": "markdown",
      "source": [
        "Aplicamos el método de la bisección a la función $f$, y de yapa aproximamos la velocidad de convergencia $\\lambda$ utilizando el último valor obtenido el último valor obtenido tras las iteraciones del método, utilizando la ecuación:\n",
        "- $\\lambda \\approx \\frac{|x_{final} - x_{n}|}{|x_{final} - x_{n-1}|^\\alpha}$"
      ],
      "metadata": {
        "id": "SBXlIydNOEIi"
      }
    },
    {
      "cell_type": "code",
      "source": [
        "aproximacion, resultados = bisect(f_eval_ta_s, a = 30, b = 40, tol = 10**-8, max_iteraciones=1000)\n",
        "resultados"
      ],
      "metadata": {
        "colab": {
          "base_uri": "https://localhost:8080/",
          "height": 834
        },
        "id": "-17ovw_nH-Nl",
        "outputId": "76fa5bc8-ca2b-4f4e-f291-a6f8f5431cfd"
      },
      "execution_count": 210,
      "outputs": [
        {
          "output_type": "execute_result",
          "data": {
            "text/plain": [
              "    Aproximación  Error relativo     Lambda\n",
              "0      35.000000    1.428571e-01   0.000000\n",
              "1      32.500000    7.142857e-02  11.606050\n",
              "2      33.750000    3.571429e-02   0.456919\n",
              "3      34.375000    1.785714e-02   0.405714\n",
              "4      34.687500    8.928571e-03   0.267605\n",
              "5      34.843750    4.484305e-03   0.368423\n",
              "6      34.765625    2.242152e-03   0.857136\n",
              "7      34.804688    1.122334e-03   0.083338\n",
              "8      34.785156    5.611672e-04   5.499653\n",
              "9      34.794922    2.805836e-04   0.409085\n",
              "10     34.799805    1.402918e-04   0.277761\n",
              "11     34.802246    7.015082e-05   0.300111\n",
              "12     34.801025    3.507541e-05   1.166050\n",
              "13     34.801636    1.753771e-05   0.071202\n",
              "14     34.801941    8.768930e-06   5.522293\n",
              "15     34.801788    4.384484e-06   0.409458\n",
              "16     34.801712    2.192247e-06   0.278873\n",
              "17     34.801674    1.096123e-06   0.292929\n",
              "18     34.801693    5.480620e-07   1.206897\n",
              "19     34.801683    2.740311e-07   0.085714\n",
              "20     34.801679    1.370155e-07   4.333333\n",
              "21     34.801681    6.850777e-08   0.384615\n",
              "22     34.801682    3.425389e-08   0.200000\n",
              "23     34.801683    1.712694e-08   1.000000\n",
              "24     34.801683    8.563472e-09   0.000000"
            ],
            "text/html": [
              "\n",
              "  <div id=\"df-6abc41ba-d27f-410a-9c91-17373b6e9cbb\">\n",
              "    <div class=\"colab-df-container\">\n",
              "      <div>\n",
              "<style scoped>\n",
              "    .dataframe tbody tr th:only-of-type {\n",
              "        vertical-align: middle;\n",
              "    }\n",
              "\n",
              "    .dataframe tbody tr th {\n",
              "        vertical-align: top;\n",
              "    }\n",
              "\n",
              "    .dataframe thead th {\n",
              "        text-align: right;\n",
              "    }\n",
              "</style>\n",
              "<table border=\"1\" class=\"dataframe\">\n",
              "  <thead>\n",
              "    <tr style=\"text-align: right;\">\n",
              "      <th></th>\n",
              "      <th>Aproximación</th>\n",
              "      <th>Error relativo</th>\n",
              "      <th>Lambda</th>\n",
              "    </tr>\n",
              "  </thead>\n",
              "  <tbody>\n",
              "    <tr>\n",
              "      <th>0</th>\n",
              "      <td>35.000000</td>\n",
              "      <td>1.428571e-01</td>\n",
              "      <td>0.000000</td>\n",
              "    </tr>\n",
              "    <tr>\n",
              "      <th>1</th>\n",
              "      <td>32.500000</td>\n",
              "      <td>7.142857e-02</td>\n",
              "      <td>11.606050</td>\n",
              "    </tr>\n",
              "    <tr>\n",
              "      <th>2</th>\n",
              "      <td>33.750000</td>\n",
              "      <td>3.571429e-02</td>\n",
              "      <td>0.456919</td>\n",
              "    </tr>\n",
              "    <tr>\n",
              "      <th>3</th>\n",
              "      <td>34.375000</td>\n",
              "      <td>1.785714e-02</td>\n",
              "      <td>0.405714</td>\n",
              "    </tr>\n",
              "    <tr>\n",
              "      <th>4</th>\n",
              "      <td>34.687500</td>\n",
              "      <td>8.928571e-03</td>\n",
              "      <td>0.267605</td>\n",
              "    </tr>\n",
              "    <tr>\n",
              "      <th>5</th>\n",
              "      <td>34.843750</td>\n",
              "      <td>4.484305e-03</td>\n",
              "      <td>0.368423</td>\n",
              "    </tr>\n",
              "    <tr>\n",
              "      <th>6</th>\n",
              "      <td>34.765625</td>\n",
              "      <td>2.242152e-03</td>\n",
              "      <td>0.857136</td>\n",
              "    </tr>\n",
              "    <tr>\n",
              "      <th>7</th>\n",
              "      <td>34.804688</td>\n",
              "      <td>1.122334e-03</td>\n",
              "      <td>0.083338</td>\n",
              "    </tr>\n",
              "    <tr>\n",
              "      <th>8</th>\n",
              "      <td>34.785156</td>\n",
              "      <td>5.611672e-04</td>\n",
              "      <td>5.499653</td>\n",
              "    </tr>\n",
              "    <tr>\n",
              "      <th>9</th>\n",
              "      <td>34.794922</td>\n",
              "      <td>2.805836e-04</td>\n",
              "      <td>0.409085</td>\n",
              "    </tr>\n",
              "    <tr>\n",
              "      <th>10</th>\n",
              "      <td>34.799805</td>\n",
              "      <td>1.402918e-04</td>\n",
              "      <td>0.277761</td>\n",
              "    </tr>\n",
              "    <tr>\n",
              "      <th>11</th>\n",
              "      <td>34.802246</td>\n",
              "      <td>7.015082e-05</td>\n",
              "      <td>0.300111</td>\n",
              "    </tr>\n",
              "    <tr>\n",
              "      <th>12</th>\n",
              "      <td>34.801025</td>\n",
              "      <td>3.507541e-05</td>\n",
              "      <td>1.166050</td>\n",
              "    </tr>\n",
              "    <tr>\n",
              "      <th>13</th>\n",
              "      <td>34.801636</td>\n",
              "      <td>1.753771e-05</td>\n",
              "      <td>0.071202</td>\n",
              "    </tr>\n",
              "    <tr>\n",
              "      <th>14</th>\n",
              "      <td>34.801941</td>\n",
              "      <td>8.768930e-06</td>\n",
              "      <td>5.522293</td>\n",
              "    </tr>\n",
              "    <tr>\n",
              "      <th>15</th>\n",
              "      <td>34.801788</td>\n",
              "      <td>4.384484e-06</td>\n",
              "      <td>0.409458</td>\n",
              "    </tr>\n",
              "    <tr>\n",
              "      <th>16</th>\n",
              "      <td>34.801712</td>\n",
              "      <td>2.192247e-06</td>\n",
              "      <td>0.278873</td>\n",
              "    </tr>\n",
              "    <tr>\n",
              "      <th>17</th>\n",
              "      <td>34.801674</td>\n",
              "      <td>1.096123e-06</td>\n",
              "      <td>0.292929</td>\n",
              "    </tr>\n",
              "    <tr>\n",
              "      <th>18</th>\n",
              "      <td>34.801693</td>\n",
              "      <td>5.480620e-07</td>\n",
              "      <td>1.206897</td>\n",
              "    </tr>\n",
              "    <tr>\n",
              "      <th>19</th>\n",
              "      <td>34.801683</td>\n",
              "      <td>2.740311e-07</td>\n",
              "      <td>0.085714</td>\n",
              "    </tr>\n",
              "    <tr>\n",
              "      <th>20</th>\n",
              "      <td>34.801679</td>\n",
              "      <td>1.370155e-07</td>\n",
              "      <td>4.333333</td>\n",
              "    </tr>\n",
              "    <tr>\n",
              "      <th>21</th>\n",
              "      <td>34.801681</td>\n",
              "      <td>6.850777e-08</td>\n",
              "      <td>0.384615</td>\n",
              "    </tr>\n",
              "    <tr>\n",
              "      <th>22</th>\n",
              "      <td>34.801682</td>\n",
              "      <td>3.425389e-08</td>\n",
              "      <td>0.200000</td>\n",
              "    </tr>\n",
              "    <tr>\n",
              "      <th>23</th>\n",
              "      <td>34.801683</td>\n",
              "      <td>1.712694e-08</td>\n",
              "      <td>1.000000</td>\n",
              "    </tr>\n",
              "    <tr>\n",
              "      <th>24</th>\n",
              "      <td>34.801683</td>\n",
              "      <td>8.563472e-09</td>\n",
              "      <td>0.000000</td>\n",
              "    </tr>\n",
              "  </tbody>\n",
              "</table>\n",
              "</div>\n",
              "      <button class=\"colab-df-convert\" onclick=\"convertToInteractive('df-6abc41ba-d27f-410a-9c91-17373b6e9cbb')\"\n",
              "              title=\"Convert this dataframe to an interactive table.\"\n",
              "              style=\"display:none;\">\n",
              "        \n",
              "  <svg xmlns=\"http://www.w3.org/2000/svg\" height=\"24px\"viewBox=\"0 0 24 24\"\n",
              "       width=\"24px\">\n",
              "    <path d=\"M0 0h24v24H0V0z\" fill=\"none\"/>\n",
              "    <path d=\"M18.56 5.44l.94 2.06.94-2.06 2.06-.94-2.06-.94-.94-2.06-.94 2.06-2.06.94zm-11 1L8.5 8.5l.94-2.06 2.06-.94-2.06-.94L8.5 2.5l-.94 2.06-2.06.94zm10 10l.94 2.06.94-2.06 2.06-.94-2.06-.94-.94-2.06-.94 2.06-2.06.94z\"/><path d=\"M17.41 7.96l-1.37-1.37c-.4-.4-.92-.59-1.43-.59-.52 0-1.04.2-1.43.59L10.3 9.45l-7.72 7.72c-.78.78-.78 2.05 0 2.83L4 21.41c.39.39.9.59 1.41.59.51 0 1.02-.2 1.41-.59l7.78-7.78 2.81-2.81c.8-.78.8-2.07 0-2.86zM5.41 20L4 18.59l7.72-7.72 1.47 1.35L5.41 20z\"/>\n",
              "  </svg>\n",
              "      </button>\n",
              "      \n",
              "  <style>\n",
              "    .colab-df-container {\n",
              "      display:flex;\n",
              "      flex-wrap:wrap;\n",
              "      gap: 12px;\n",
              "    }\n",
              "\n",
              "    .colab-df-convert {\n",
              "      background-color: #E8F0FE;\n",
              "      border: none;\n",
              "      border-radius: 50%;\n",
              "      cursor: pointer;\n",
              "      display: none;\n",
              "      fill: #1967D2;\n",
              "      height: 32px;\n",
              "      padding: 0 0 0 0;\n",
              "      width: 32px;\n",
              "    }\n",
              "\n",
              "    .colab-df-convert:hover {\n",
              "      background-color: #E2EBFA;\n",
              "      box-shadow: 0px 1px 2px rgba(60, 64, 67, 0.3), 0px 1px 3px 1px rgba(60, 64, 67, 0.15);\n",
              "      fill: #174EA6;\n",
              "    }\n",
              "\n",
              "    [theme=dark] .colab-df-convert {\n",
              "      background-color: #3B4455;\n",
              "      fill: #D2E3FC;\n",
              "    }\n",
              "\n",
              "    [theme=dark] .colab-df-convert:hover {\n",
              "      background-color: #434B5C;\n",
              "      box-shadow: 0px 1px 3px 1px rgba(0, 0, 0, 0.15);\n",
              "      filter: drop-shadow(0px 1px 2px rgba(0, 0, 0, 0.3));\n",
              "      fill: #FFFFFF;\n",
              "    }\n",
              "  </style>\n",
              "\n",
              "      <script>\n",
              "        const buttonEl =\n",
              "          document.querySelector('#df-6abc41ba-d27f-410a-9c91-17373b6e9cbb button.colab-df-convert');\n",
              "        buttonEl.style.display =\n",
              "          google.colab.kernel.accessAllowed ? 'block' : 'none';\n",
              "\n",
              "        async function convertToInteractive(key) {\n",
              "          const element = document.querySelector('#df-6abc41ba-d27f-410a-9c91-17373b6e9cbb');\n",
              "          const dataTable =\n",
              "            await google.colab.kernel.invokeFunction('convertToInteractive',\n",
              "                                                     [key], {});\n",
              "          if (!dataTable) return;\n",
              "\n",
              "          const docLinkHtml = 'Like what you see? Visit the ' +\n",
              "            '<a target=\"_blank\" href=https://colab.research.google.com/notebooks/data_table.ipynb>data table notebook</a>'\n",
              "            + ' to learn more about interactive tables.';\n",
              "          element.innerHTML = '';\n",
              "          dataTable['output_type'] = 'display_data';\n",
              "          await google.colab.output.renderOutput(dataTable, element);\n",
              "          const docLink = document.createElement('div');\n",
              "          docLink.innerHTML = docLinkHtml;\n",
              "          element.appendChild(docLink);\n",
              "        }\n",
              "      </script>\n",
              "    </div>\n",
              "  </div>\n",
              "  "
            ]
          },
          "metadata": {},
          "execution_count": 210
        }
      ]
    },
    {
      "cell_type": "code",
      "source": [
        "plt.plot(resultados.index, resultados[\"Error relativo\"])\n",
        "plt.xlabel(\"Numero de iteraciones\")\n",
        "plt.ylabel(\"Error relativo\");"
      ],
      "metadata": {
        "colab": {
          "base_uri": "https://localhost:8080/",
          "height": 279
        },
        "id": "chdYVOpvPNfQ",
        "outputId": "b6f3ab95-0153-4baf-d6ab-fb7ec4372940"
      },
      "execution_count": 130,
      "outputs": [
        {
          "output_type": "display_data",
          "data": {
            "text/plain": [
              "<Figure size 432x288 with 1 Axes>"
            ],
            "image/png": "[encoded data removed]"
          },
          "metadata": {
            "needs_background": "light"
          }
        }
      ]
    },
    {
      "cell_type": "code",
      "source": [
        "plt.plot(resultados.index, [f_eval_ta_s(aproximacion) for aproximacion in resultados[\"Aproximación\"]])\n",
        "plt.xlabel(\"Numero de iteraciones\")\n",
        "plt.ylabel(\"Valor de la función en la aproximacion\");\n"
      ],
      "metadata": {
        "colab": {
          "base_uri": "https://localhost:8080/",
          "height": 279
        },
        "id": "5edSd9ziPmjM",
        "outputId": "23e8921b-a214-46ed-d46c-fa5fb18b538c"
      },
      "execution_count": 133,
      "outputs": [
        {
          "output_type": "display_data",
          "data": {
            "text/plain": [
              "<Figure size 432x288 with 1 Axes>"
            ],
            "image/png": "[encoded data removed]"
          },
          "metadata": {
            "needs_background": "light"
          }
        }
      ]
    },
    {
      "cell_type": "markdown",
      "source": [
        "### Método del punto fijo"
      ],
      "metadata": {
        "id": "QBZZJoh4aJZl"
      }
    },
    {
      "cell_type": "markdown",
      "source": [
        "Necesitamos una función $g(x)$ tal que $g \\in C¹ \\ \\forall \\ x  \\in I$, y que cumpla con las dos hipótesis de convergencia del punto fijo:\n",
        "- $g(x) \\in I \\ \\forall x \\in I$\n",
        "- $|g'(x)| < 1 \\ \\forall x \\in I$"
      ],
      "metadata": {
        "id": "8E13kF5ediqV"
      }
    },
    {
      "cell_type": "code",
      "source": [
        "g = Ta_s_sim - f\n",
        "g"
      ],
      "metadata": {
        "id": "iM2tyqpVcxe0",
        "colab": {
          "base_uri": "https://localhost:8080/",
          "height": 95
        },
        "outputId": "b6cd9e38-5a23-4f67-8293-25d90ce5702e"
      },
      "execution_count": 177,
      "outputs": [
        {
          "output_type": "execute_result",
          "data": {
            "text/plain": [
              "T_a^s + 1 - (A*U*(-Cp_a*m_a*(T_a^e - T_a^s)/(Cp_w*m_w) + T_a^e - T_w^e) - T_a^s + T_w^e)/(Cp_a*m_a*(T_a^e - T_a^s)*log((-Cp_a*m_a*(T_a^e - T_a^s)/(Cp_w*m_w) + T_a^e - T_w^s)/(T_a^s - T_w^s)))"
            ],
            "text/latex": "$\\displaystyle T^{s}_{a} + 1 - \\frac{A U \\left(- \\frac{Cp_{a} m_{a} \\left(T^{e}_{a} - T^{s}_{a}\\right)}{Cp_{w} m_{w}} + T^{e}_{a} - T^{e}_{w}\\right) - T^{s}_{a} + T^{e}_{w}}{Cp_{a} m_{a} \\left(T^{e}_{a} - T^{s}_{a}\\right) \\log{\\left(\\frac{- \\frac{Cp_{a} m_{a} \\left(T^{e}_{a} - T^{s}_{a}\\right)}{Cp_{w} m_{w}} + T^{e}_{a} - T^{s}_{w}}{T^{s}_{a} - T^{s}_{w}} \\right)}}$"
          },
          "metadata": {},
          "execution_count": 177
        }
      ]
    },
    {
      "cell_type": "code",
      "source": [
        "g_eval = sp.lambdify([U_sim, A_sim, mw_sim, Cpw_sim, Tw_e_sim, Tw_s_sim, ma_sim, Cpa_sim, Ta_e_sim, Ta_s_sim], g)\n",
        "g_eval_ta_s = lambda Ta_s: g_eval(U,A,mw,Cpw,Tw_e,Tw_s,ma,Cpa,Ta_e,Ta_s)\n",
        "x_axis = np.arange(30,40,0.01)\n",
        "y_axis = [g_eval_ta_s(x) for x in x_axis]\n",
        "plt.plot(x_axis, y_axis)\n",
        "plt.xlabel(\"Valor de la temperatura\")\n",
        "plt.ylabel(\"Valor de la g escogida\")\n",
        "plt.xlim(30,40);"
      ],
      "metadata": {
        "colab": {
          "base_uri": "https://localhost:8080/",
          "height": 279
        },
        "id": "bPTzYHqsc9XU",
        "outputId": "845eb705-f3f0-4ff1-eb9b-ecec16dd8890"
      },
      "execution_count": 190,
      "outputs": [
        {
          "output_type": "display_data",
          "data": {
            "text/plain": [
              "<Figure size 432x288 with 1 Axes>"
            ],
            "image/png": "[encoded data removed]"
          },
          "metadata": {
            "needs_background": "light"
          }
        }
      ]
    },
    {
      "cell_type": "code",
      "source": [
        "max(y_axis), min(y_axis)"
      ],
      "metadata": {
        "colab": {
          "base_uri": "https://localhost:8080/"
        },
        "id": "dLD8an7heqqg",
        "outputId": "c5276f24-12f2-424f-a601-f638a43156b6"
      },
      "execution_count": 183,
      "outputs": [
        {
          "output_type": "execute_result",
          "data": {
            "text/plain": [
              "(39.30845674487209, 30.46633766913846)"
            ]
          },
          "metadata": {},
          "execution_count": 183
        }
      ]
    },
    {
      "cell_type": "markdown",
      "source": [
        "Vemos que la función $g$ escogida cumple con la primer hipótesis. Verificamos que cumple con la segunda"
      ],
      "metadata": {
        "id": "XEKjHASHe9xi"
      }
    },
    {
      "cell_type": "code",
      "source": [
        "g_prima = sp.diff(g, Ta_s_sim)\n",
        "g_prima"
      ],
      "metadata": {
        "colab": {
          "base_uri": "https://localhost:8080/",
          "height": 189
        },
        "id": "COZv8vCYfD0y",
        "outputId": "99393650-3415-4623-c74a-3221e205e3b6"
      },
      "execution_count": 185,
      "outputs": [
        {
          "output_type": "execute_result",
          "data": {
            "text/plain": [
              "1 + (T_a^s - T_w^s)*(Cp_a*m_a/(Cp_w*m_w*(T_a^s - T_w^s)) - (-Cp_a*m_a*(T_a^e - T_a^s)/(Cp_w*m_w) + T_a^e - T_w^s)/(T_a^s - T_w^s)**2)*(A*U*(-Cp_a*m_a*(T_a^e - T_a^s)/(Cp_w*m_w) + T_a^e - T_w^e) - T_a^s + T_w^e)/(Cp_a*m_a*(T_a^e - T_a^s)*(-Cp_a*m_a*(T_a^e - T_a^s)/(Cp_w*m_w) + T_a^e - T_w^s)*log((-Cp_a*m_a*(T_a^e - T_a^s)/(Cp_w*m_w) + T_a^e - T_w^s)/(T_a^s - T_w^s))**2) - (A*Cp_a*U*m_a/(Cp_w*m_w) - 1)/(Cp_a*m_a*(T_a^e - T_a^s)*log((-Cp_a*m_a*(T_a^e - T_a^s)/(Cp_w*m_w) + T_a^e - T_w^s)/(T_a^s - T_w^s))) - (A*U*(-Cp_a*m_a*(T_a^e - T_a^s)/(Cp_w*m_w) + T_a^e - T_w^e) - T_a^s + T_w^e)/(Cp_a*m_a*(T_a^e - T_a^s)**2*log((-Cp_a*m_a*(T_a^e - T_a^s)/(Cp_w*m_w) + T_a^e - T_w^s)/(T_a^s - T_w^s)))"
            ],
            "text/latex": "$\\displaystyle 1 + \\frac{\\left(T^{s}_{a} - T^{s}_{w}\\right) \\left(\\frac{Cp_{a} m_{a}}{Cp_{w} m_{w} \\left(T^{s}_{a} - T^{s}_{w}\\right)} - \\frac{- \\frac{Cp_{a} m_{a} \\left(T^{e}_{a} - T^{s}_{a}\\right)}{Cp_{w} m_{w}} + T^{e}_{a} - T^{s}_{w}}{\\left(T^{s}_{a} - T^{s}_{w}\\right)^{2}}\\right) \\left(A U \\left(- \\frac{Cp_{a} m_{a} \\left(T^{e}_{a} - T^{s}_{a}\\right)}{Cp_{w} m_{w}} + T^{e}_{a} - T^{e}_{w}\\right) - T^{s}_{a} + T^{e}_{w}\\right)}{Cp_{a} m_{a} \\left(T^{e}_{a} - T^{s}_{a}\\right) \\left(- \\frac{Cp_{a} m_{a} \\left(T^{e}_{a} - T^{s}_{a}\\right)}{Cp_{w} m_{w}} + T^{e}_{a} - T^{s}_{w}\\right) \\log{\\left(\\frac{- \\frac{Cp_{a} m_{a} \\left(T^{e}_{a} - T^{s}_{a}\\right)}{Cp_{w} m_{w}} + T^{e}_{a} - T^{s}_{w}}{T^{s}_{a} - T^{s}_{w}} \\right)}^{2}} - \\frac{\\frac{A Cp_{a} U m_{a}}{Cp_{w} m_{w}} - 1}{Cp_{a} m_{a} \\left(T^{e}_{a} - T^{s}_{a}\\right) \\log{\\left(\\frac{- \\frac{Cp_{a} m_{a} \\left(T^{e}_{a} - T^{s}_{a}\\right)}{Cp_{w} m_{w}} + T^{e}_{a} - T^{s}_{w}}{T^{s}_{a} - T^{s}_{w}} \\right)}} - \\frac{A U \\left(- \\frac{Cp_{a} m_{a} \\left(T^{e}_{a} - T^{s}_{a}\\right)}{Cp_{w} m_{w}} + T^{e}_{a} - T^{e}_{w}\\right) - T^{s}_{a} + T^{e}_{w}}{Cp_{a} m_{a} \\left(T^{e}_{a} - T^{s}_{a}\\right)^{2} \\log{\\left(\\frac{- \\frac{Cp_{a} m_{a} \\left(T^{e}_{a} - T^{s}_{a}\\right)}{Cp_{w} m_{w}} + T^{e}_{a} - T^{s}_{w}}{T^{s}_{a} - T^{s}_{w}} \\right)}}$"
          },
          "metadata": {},
          "execution_count": 185
        }
      ]
    },
    {
      "cell_type": "code",
      "source": [
        "g_prima_eval = sp.lambdify([U_sim, A_sim, mw_sim, Cpw_sim, Tw_e_sim, Tw_s_sim, ma_sim, Cpa_sim, Ta_e_sim, Ta_s_sim], g_prima)\n",
        "g_prima_eval_ta_s = lambda Ta_s: g_prima_eval(U,A,mw,Cpw,Tw_e,Tw_s,ma,Cpa,Ta_e,Ta_s)\n",
        "x_axis = np.arange(30,40,0.01)\n",
        "y_axis = [g_prima_eval_ta_s(x) for x in x_axis]\n",
        "plt.plot(x_axis, y_axis)\n",
        "plt.xlabel(\"Valor de la temperatura\")\n",
        "plt.ylabel(\"Valor de la derivada de g\")\n",
        "plt.xlim(30,40);"
      ],
      "metadata": {
        "colab": {
          "base_uri": "https://localhost:8080/",
          "height": 279
        },
        "id": "nXlqb3-JfNTU",
        "outputId": "f4d3f516-8995-43c5-fe46-f00c9e39f93d"
      },
      "execution_count": 189,
      "outputs": [
        {
          "output_type": "display_data",
          "data": {
            "text/plain": [
              "<Figure size 432x288 with 1 Axes>"
            ],
            "image/png": "[encoded data removed]"
          },
          "metadata": {
            "needs_background": "light"
          }
        }
      ]
    },
    {
      "cell_type": "code",
      "source": [
        "max(y_axis), min(y_axis)"
      ],
      "metadata": {
        "colab": {
          "base_uri": "https://localhost:8080/"
        },
        "id": "jTJ8Fp8Mf4yI",
        "outputId": "1cfd9a6c-a294-4f04-c593-908b686829bd"
      },
      "execution_count": 193,
      "outputs": [
        {
          "output_type": "execute_result",
          "data": {
            "text/plain": [
              "(0.681543255129468, -0.4663376691384621)"
            ]
          },
          "metadata": {},
          "execution_count": 193
        }
      ]
    },
    {
      "cell_type": "markdown",
      "source": [
        "Escogiendo $m$ = 0.7, notamos claramente que $g'(x) < m < 1 \\ \\forall x \\in I$. Luego la función que elegimos cumple también la segunda hipótesis de convergencia del punto fijo. Por lo tanto, para el intervalo $I = (30,40)$ escogido, y para la $g$ que hemos estado analizando, el método del punto fijo converge."
      ],
      "metadata": {
        "id": "wVCZ3nAaf-ZZ"
      }
    },
    {
      "cell_type": "markdown",
      "source": [
        "#### Código del método del punto fijo"
      ],
      "metadata": {
        "id": "3Mj6DxCnipOq"
      }
    },
    {
      "cell_type": "code",
      "source": [
        "def fixed_point_iteration(g, a, b, tol, maximo_iteraciones = 100):\n",
        "  resultados = pd.DataFrame(columns=[\"Aproximación\", \"Error Relativo\"])\n",
        "  error_relativo = lambda a,b: np.abs((b-a)/b)\n",
        "  aproximacion_actual = g((a+b)/2)\n",
        "  aproximacion_anterior = (a+b)/2\n",
        "  resultados.loc[len(resultados)] = [aproximacion_actual, error_relativo(a,b)]\n",
        "  error_relativo = lambda a,b: np.abs((b-a)/b)\n",
        "  while error_relativo(aproximacion_actual, aproximacion_anterior) > tol and len(resultados) < maximo_iteraciones:\n",
        "    aproximacion_anterior = aproximacion_actual\n",
        "    aproximacion_actual = g(aproximacion_actual)\n",
        "    resultados.loc[len(resultados)] = [aproximacion_actual, error_relativo(aproximacion_actual, aproximacion_anterior)]\n",
        "  return aproximacion_actual, resultados"
      ],
      "metadata": {
        "id": "HK53WcImg-Ll"
      },
      "execution_count": 213,
      "outputs": []
    },
    {
      "cell_type": "markdown",
      "source": [
        "Aplicamos el método con la g propuesta"
      ],
      "metadata": {
        "id": "P7Eo7eJ4im0c"
      }
    },
    {
      "cell_type": "code",
      "source": [
        "aproximacion, resultados = fixed_point_iteration(g_eval_ta_s,30,40,10**-8, maximo_iteraciones = 10)\n",
        "resultados"
      ],
      "metadata": {
        "colab": {
          "base_uri": "https://localhost:8080/",
          "height": 363
        },
        "id": "qWkr6j9NivjO",
        "outputId": "8e3c664b-16fa-4d52-b2f2-caa48c8f5871"
      },
      "execution_count": 214,
      "outputs": [
        {
          "output_type": "execute_result",
          "data": {
            "text/plain": [
              "   Aproximación  Error Relativo\n",
              "0     34.977826        0.250000\n",
              "1     34.958145        0.000563\n",
              "2     34.940673        0.000500\n",
              "3     34.925161        0.000444\n",
              "4     34.911387        0.000394\n",
              "5     34.899154        0.000350\n",
              "6     34.888290        0.000311\n",
              "7     34.878640        0.000277\n",
              "8     34.870067        0.000246\n",
              "9     34.862452        0.000218"
            ],
            "text/html": [
              "\n",
              "  <div id=\"df-f7b57fed-af51-47f6-b569-60fd97b44dbb\">\n",
              "    <div class=\"colab-df-container\">\n",
              "      <div>\n",
              "<style scoped>\n",
              "    .dataframe tbody tr th:only-of-type {\n",
              "        vertical-align: middle;\n",
              "    }\n",
              "\n",
              "    .dataframe tbody tr th {\n",
              "        vertical-align: top;\n",
              "    }\n",
              "\n",
              "    .dataframe thead th {\n",
              "        text-align: right;\n",
              "    }\n",
              "</style>\n",
              "<table border=\"1\" class=\"dataframe\">\n",
              "  <thead>\n",
              "    <tr style=\"text-align: right;\">\n",
              "      <th></th>\n",
              "      <th>Aproximación</th>\n",
              "      <th>Error Relativo</th>\n",
              "    </tr>\n",
              "  </thead>\n",
              "  <tbody>\n",
              "    <tr>\n",
              "      <th>0</th>\n",
              "      <td>34.977826</td>\n",
              "      <td>0.250000</td>\n",
              "    </tr>\n",
              "    <tr>\n",
              "      <th>1</th>\n",
              "      <td>34.958145</td>\n",
              "      <td>0.000563</td>\n",
              "    </tr>\n",
              "    <tr>\n",
              "      <th>2</th>\n",
              "      <td>34.940673</td>\n",
              "      <td>0.000500</td>\n",
              "    </tr>\n",
              "    <tr>\n",
              "      <th>3</th>\n",
              "      <td>34.925161</td>\n",
              "      <td>0.000444</td>\n",
              "    </tr>\n",
              "    <tr>\n",
              "      <th>4</th>\n",
              "      <td>34.911387</td>\n",
              "      <td>0.000394</td>\n",
              "    </tr>\n",
              "    <tr>\n",
              "      <th>5</th>\n",
              "      <td>34.899154</td>\n",
              "      <td>0.000350</td>\n",
              "    </tr>\n",
              "    <tr>\n",
              "      <th>6</th>\n",
              "      <td>34.888290</td>\n",
              "      <td>0.000311</td>\n",
              "    </tr>\n",
              "    <tr>\n",
              "      <th>7</th>\n",
              "      <td>34.878640</td>\n",
              "      <td>0.000277</td>\n",
              "    </tr>\n",
              "    <tr>\n",
              "      <th>8</th>\n",
              "      <td>34.870067</td>\n",
              "      <td>0.000246</td>\n",
              "    </tr>\n",
              "    <tr>\n",
              "      <th>9</th>\n",
              "      <td>34.862452</td>\n",
              "      <td>0.000218</td>\n",
              "    </tr>\n",
              "  </tbody>\n",
              "</table>\n",
              "</div>\n",
              "      <button class=\"colab-df-convert\" onclick=\"convertToInteractive('df-f7b57fed-af51-47f6-b569-60fd97b44dbb')\"\n",
              "              title=\"Convert this dataframe to an interactive table.\"\n",
              "              style=\"display:none;\">\n",
              "        \n",
              "  <svg xmlns=\"http://www.w3.org/2000/svg\" height=\"24px\"viewBox=\"0 0 24 24\"\n",
              "       width=\"24px\">\n",
              "    <path d=\"M0 0h24v24H0V0z\" fill=\"none\"/>\n",
              "    <path d=\"M18.56 5.44l.94 2.06.94-2.06 2.06-.94-2.06-.94-.94-2.06-.94 2.06-2.06.94zm-11 1L8.5 8.5l.94-2.06 2.06-.94-2.06-.94L8.5 2.5l-.94 2.06-2.06.94zm10 10l.94 2.06.94-2.06 2.06-.94-2.06-.94-.94-2.06-.94 2.06-2.06.94z\"/><path d=\"M17.41 7.96l-1.37-1.37c-.4-.4-.92-.59-1.43-.59-.52 0-1.04.2-1.43.59L10.3 9.45l-7.72 7.72c-.78.78-.78 2.05 0 2.83L4 21.41c.39.39.9.59 1.41.59.51 0 1.02-.2 1.41-.59l7.78-7.78 2.81-2.81c.8-.78.8-2.07 0-2.86zM5.41 20L4 18.59l7.72-7.72 1.47 1.35L5.41 20z\"/>\n",
              "  </svg>\n",
              "      </button>\n",
              "      \n",
              "  <style>\n",
              "    .colab-df-container {\n",
              "      display:flex;\n",
              "      flex-wrap:wrap;\n",
              "      gap: 12px;\n",
              "    }\n",
              "\n",
              "    .colab-df-convert {\n",
              "      background-color: #E8F0FE;\n",
              "      border: none;\n",
              "      border-radius: 50%;\n",
              "      cursor: pointer;\n",
              "      display: none;\n",
              "      fill: #1967D2;\n",
              "      height: 32px;\n",
              "      padding: 0 0 0 0;\n",
              "      width: 32px;\n",
              "    }\n",
              "\n",
              "    .colab-df-convert:hover {\n",
              "      background-color: #E2EBFA;\n",
              "      box-shadow: 0px 1px 2px rgba(60, 64, 67, 0.3), 0px 1px 3px 1px rgba(60, 64, 67, 0.15);\n",
              "      fill: #174EA6;\n",
              "    }\n",
              "\n",
              "    [theme=dark] .colab-df-convert {\n",
              "      background-color: #3B4455;\n",
              "      fill: #D2E3FC;\n",
              "    }\n",
              "\n",
              "    [theme=dark] .colab-df-convert:hover {\n",
              "      background-color: #434B5C;\n",
              "      box-shadow: 0px 1px 3px 1px rgba(0, 0, 0, 0.15);\n",
              "      filter: drop-shadow(0px 1px 2px rgba(0, 0, 0, 0.3));\n",
              "      fill: #FFFFFF;\n",
              "    }\n",
              "  </style>\n",
              "\n",
              "      <script>\n",
              "        const buttonEl =\n",
              "          document.querySelector('#df-f7b57fed-af51-47f6-b569-60fd97b44dbb button.colab-df-convert');\n",
              "        buttonEl.style.display =\n",
              "          google.colab.kernel.accessAllowed ? 'block' : 'none';\n",
              "\n",
              "        async function convertToInteractive(key) {\n",
              "          const element = document.querySelector('#df-f7b57fed-af51-47f6-b569-60fd97b44dbb');\n",
              "          const dataTable =\n",
              "            await google.colab.kernel.invokeFunction('convertToInteractive',\n",
              "                                                     [key], {});\n",
              "          if (!dataTable) return;\n",
              "\n",
              "          const docLinkHtml = 'Like what you see? Visit the ' +\n",
              "            '<a target=\"_blank\" href=https://colab.research.google.com/notebooks/data_table.ipynb>data table notebook</a>'\n",
              "            + ' to learn more about interactive tables.';\n",
              "          element.innerHTML = '';\n",
              "          dataTable['output_type'] = 'display_data';\n",
              "          await google.colab.output.renderOutput(dataTable, element);\n",
              "          const docLink = document.createElement('div');\n",
              "          docLink.innerHTML = docLinkHtml;\n",
              "          element.appendChild(docLink);\n",
              "        }\n",
              "      </script>\n",
              "    </div>\n",
              "  </div>\n",
              "  "
            ]
          },
          "metadata": {},
          "execution_count": 214
        }
      ]
    },
    {
      "cell_type": "code",
      "source": [
        "plt.plot(resultados.index, resultados[\"Error Relativo\"])\n",
        "plt.xlabel(\"Numero de iteraciones\")\n",
        "plt.ylabel(\"Error Relativo\");"
      ],
      "metadata": {
        "colab": {
          "base_uri": "https://localhost:8080/",
          "height": 279
        },
        "id": "puuZvIA6ksuc",
        "outputId": "bde7f8ac-5be5-4edc-e607-682d5a4ab1ed"
      },
      "execution_count": 216,
      "outputs": [
        {
          "output_type": "display_data",
          "data": {
            "text/plain": [
              "<Figure size 432x288 with 1 Axes>"
            ],
            "image/png": "[encoded data removed]"
          },
          "metadata": {
            "needs_background": "light"
          }
        }
      ]
    },
    {
      "cell_type": "code",
      "source": [
        "plt.plot(resultados.index, [f_eval_ta_s(aproximacion) for aproximacion in resultados[\"Aproximación\"]])\n",
        "plt.xlabel(\"Numero de iteraciones\")\n",
        "plt.ylabel(\"Valor de la función en la aproximacion\")\n",
        "plt.xlim(0,9)\n",
        "plt.ylim(0,0.02);"
      ],
      "metadata": {
        "colab": {
          "base_uri": "https://localhost:8080/",
          "height": 283
        },
        "id": "4xKWXmFbk47J",
        "outputId": "f0fb4918-1e6e-484e-92ce-57fa0645b959"
      },
      "execution_count": 222,
      "outputs": [
        {
          "output_type": "display_data",
          "data": {
            "text/plain": [
              "<Figure size 432x288 with 1 Axes>"
            ],
            "image/png": "[encoded data removed]"
          },
          "metadata": {
            "needs_background": "light"
          }
        }
      ]
    }
  ],
  "metadata": {
    "colab": {
      "collapsed_sections": [
        "j6QL2EfGSmPf",
        "I1xZfzauS1uW",
        "Bm5B_Qu2S41W"
      ],
      "provenance": [],
      "include_colab_link": true
    },
    "kernelspec": {
      "display_name": "Python 3 (ipykernel)",
      "language": "python",
      "name": "python3"
    },
    "language_info": {
      "codemirror_mode": {
        "name": "ipython",
        "version": 3
      },
      "file_extension": ".py",
      "mimetype": "text/x-python",
      "name": "python",
      "nbconvert_exporter": "python",
      "pygments_lexer": "ipython3",
      "version": "3.9.12"
    }
  },
  "nbformat": 4,
  "nbformat_minor": 0
}